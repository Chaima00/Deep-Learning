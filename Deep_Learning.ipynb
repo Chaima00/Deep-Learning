{
 "cells": [
  {
   "cell_type": "code",
   "execution_count": 1,
   "metadata": {},
   "outputs": [],
   "source": [
    "from keras.models import Sequential\n",
    "model = Sequential()"
   ]
  },
  {
   "cell_type": "code",
   "execution_count": 2,
   "metadata": {},
   "outputs": [],
   "source": [
    "from keras.datasets import mnist"
   ]
  },
  {
   "cell_type": "code",
   "execution_count": 3,
   "metadata": {},
   "outputs": [],
   "source": [
    "(X_train, y_train), (X_test, y_test) = mnist.load_data()"
   ]
  },
  {
   "cell_type": "code",
   "execution_count": 4,
   "metadata": {},
   "outputs": [],
   "source": [
    "X_train = X_train.reshape(60000, 784)\n",
    "X_test = X_test.reshape(10000, 784)\n",
    "X_train = X_train.astype('float32')\n",
    "X_test = X_test.astype('float32')"
   ]
  },
  {
   "cell_type": "code",
   "execution_count": 5,
   "metadata": {},
   "outputs": [],
   "source": [
    "X_train /= 255\n",
    "X_test /= 255"
   ]
  },
  {
   "cell_type": "code",
   "execution_count": 6,
   "metadata": {
    "scrolled": true
   },
   "outputs": [
    {
     "name": "stdout",
     "output_type": "stream",
     "text": [
      "60000 train samples\n",
      "10000 test samples\n"
     ]
    }
   ],
   "source": [
    "print(X_train.shape[0], 'train samples')\n",
    "print(X_test.shape[0], 'test samples')"
   ]
  },
  {
   "cell_type": "code",
   "execution_count": 7,
   "metadata": {},
   "outputs": [],
   "source": [
    "#let's create a logistic regression network"
   ]
  },
  {
   "cell_type": "code",
   "execution_count": 8,
   "metadata": {},
   "outputs": [],
   "source": [
    "from keras.layers import Dense, Activation # Dense is a classe that create a layer\n",
    "#by implementing an activation function \n",
    "#Activation is the activation function we use it could be softmax, relu, sigmoid..\n",
    "model.add(Dense(10, input_dim=784, name='fc1')) #we created a sequential model of dimension of outputs 10 and dim_input is 784 and we add\n",
    "# a Dense layer as a first layer called 'fc1'\n",
    "model.add(Activation('softmax')) #we add as a second layer the softmax activation function"
   ]
  },
  {
   "cell_type": "code",
   "execution_count": 9,
   "metadata": {},
   "outputs": [
    {
     "name": "stdout",
     "output_type": "stream",
     "text": [
      "Model: \"sequential\"\n",
      "_________________________________________________________________\n",
      "Layer (type)                 Output Shape              Param #   \n",
      "=================================================================\n",
      "fc1 (Dense)                  (None, 10)                7850      \n",
      "_________________________________________________________________\n",
      "activation (Activation)      (None, 10)                0         \n",
      "=================================================================\n",
      "Total params: 7,850\n",
      "Trainable params: 7,850\n",
      "Non-trainable params: 0\n",
      "_________________________________________________________________\n"
     ]
    }
   ],
   "source": [
    "model.summary()"
   ]
  },
  {
   "cell_type": "code",
   "execution_count": 10,
   "metadata": {},
   "outputs": [],
   "source": [
    "# the number of Parameters is calculated as follow for the Dense layer fc1:\n",
    "# output_size*(input_size +1 ) = 10*(784+1)=7850"
   ]
  },
  {
   "cell_type": "code",
   "execution_count": 11,
   "metadata": {},
   "outputs": [],
   "source": [
    "#let's define the loss and optimization model\n",
    "from keras.optimizers import SGD\n",
    "learning_rate = 0.5\n",
    "sgd = SGD(learning_rate)\n",
    "model.compile(loss='categorical_crossentropy', optimizer = sgd, metrics = ['accuracy'])"
   ]
  },
  {
   "cell_type": "code",
   "execution_count": 12,
   "metadata": {
    "scrolled": true
   },
   "outputs": [
    {
     "name": "stdout",
     "output_type": "stream",
     "text": [
      "Epoch 1/10\n",
      "200/200 [==============================] - 1s 4ms/step - loss: 0.4800 - accuracy: 0.8685\n",
      "Epoch 2/10\n",
      "200/200 [==============================] - 1s 4ms/step - loss: 0.3360 - accuracy: 0.9057\n",
      "Epoch 3/10\n",
      "200/200 [==============================] - 1s 4ms/step - loss: 0.3135 - accuracy: 0.9124\n",
      "Epoch 4/10\n",
      "200/200 [==============================] - 1s 4ms/step - loss: 0.3017 - accuracy: 0.9152\n",
      "Epoch 5/10\n",
      "200/200 [==============================] - 1s 4ms/step - loss: 0.2938 - accuracy: 0.9181\n",
      "Epoch 6/10\n",
      "200/200 [==============================] - 1s 4ms/step - loss: 0.2881 - accuracy: 0.9197\n",
      "Epoch 7/10\n",
      "200/200 [==============================] - 1s 4ms/step - loss: 0.2839 - accuracy: 0.9204\n",
      "Epoch 8/10\n",
      "200/200 [==============================] - 1s 4ms/step - loss: 0.2808 - accuracy: 0.9216\n",
      "Epoch 9/10\n",
      "200/200 [==============================] - 1s 4ms/step - loss: 0.2777 - accuracy: 0.9226\n",
      "Epoch 10/10\n",
      "200/200 [==============================] - 1s 4ms/step - loss: 0.2756 - accuracy: 0.9227\n"
     ]
    },
    {
     "data": {
      "text/plain": [
       "<tensorflow.python.keras.callbacks.History at 0x1899b287bc8>"
      ]
     },
     "execution_count": 12,
     "metadata": {},
     "output_type": "execute_result"
    }
   ],
   "source": [
    "#the learning is done in the following way\n",
    "from keras.utils import np_utils\n",
    "batch_size = 300\n",
    "nb_epoch = 10\n",
    "Y_train = np_utils.to_categorical(y_train, 10)\n",
    "Y_test = np_utils.to_categorical(y_test, 10)\n",
    "model.fit(X_train, Y_train, batch_size = batch_size, epochs=nb_epoch, verbose = 1)"
   ]
  },
  {
   "cell_type": "code",
   "execution_count": 13,
   "metadata": {},
   "outputs": [],
   "source": [
    "#evaluation step\n",
    "scores = model.evaluate(X_test, Y_test, verbose=0)"
   ]
  },
  {
   "cell_type": "code",
   "execution_count": 14,
   "metadata": {},
   "outputs": [
    {
     "data": {
      "text/plain": [
       "[0.2734362483024597, 0.9225000143051147]"
      ]
     },
     "execution_count": 14,
     "metadata": {},
     "output_type": "execute_result"
    }
   ],
   "source": [
    "scores"
   ]
  },
  {
   "cell_type": "code",
   "execution_count": 15,
   "metadata": {},
   "outputs": [
    {
     "name": "stdout",
     "output_type": "stream",
     "text": [
      "loss: 27.34%\n",
      "accuracy: 92.25%\n"
     ]
    }
   ],
   "source": [
    "print(\"%s: %.2f%%\" %(model.metrics_names[0], scores[0]*100))\n",
    "print(\"%s: %.2f%%\" %(model.metrics_names[1], scores[1]*100))"
   ]
  },
  {
   "cell_type": "markdown",
   "metadata": {},
   "source": [
    "We consider now a multilayer perceptron with one hidden layer\n",
    "We want to define a network as below:"
   ]
  },
  {
   "cell_type": "code",
   "execution_count": 16,
   "metadata": {},
   "outputs": [],
   "source": [
    "model2 = Sequential()"
   ]
  },
  {
   "cell_type": "code",
   "execution_count": 17,
   "metadata": {},
   "outputs": [],
   "source": [
    "model2.add(Dense(100, input_dim=784 , name='layer1'))\n",
    "model2.add(Activation('sigmoid'))\n",
    "model2.add(Dense(10, input_dim=100 , name='layer3'))\n",
    "model2.add(Activation('softmax'))"
   ]
  },
  {
   "cell_type": "code",
   "execution_count": 18,
   "metadata": {},
   "outputs": [
    {
     "data": {
      "text/plain": [
       "<tensorflow.python.keras.engine.sequential.Sequential at 0x189a2ea9dc8>"
      ]
     },
     "execution_count": 18,
     "metadata": {},
     "output_type": "execute_result"
    }
   ],
   "source": [
    "model2"
   ]
  },
  {
   "cell_type": "code",
   "execution_count": 19,
   "metadata": {},
   "outputs": [],
   "source": [
    "model2.compile(loss='categorical_crossentropy', optimizer = sgd, metrics = ['accuracy'])"
   ]
  },
  {
   "cell_type": "code",
   "execution_count": 20,
   "metadata": {},
   "outputs": [
    {
     "name": "stdout",
     "output_type": "stream",
     "text": [
      "Epoch 1/10\n",
      "  1/200 [..............................] - ETA: 0s - loss: 2.5747 - accuracy: 0.1267WARNING:tensorflow:Callbacks method `on_train_batch_end` is slow compared to the batch time (batch time: 0.0000s vs `on_train_batch_end` time: 0.0088s). Check your callbacks.\n",
      "200/200 [==============================] - 1s 5ms/step - loss: 0.7188 - accuracy: 0.8198\n",
      "Epoch 2/10\n",
      "200/200 [==============================] - 1s 5ms/step - loss: 0.3484 - accuracy: 0.9030\n",
      "Epoch 3/10\n",
      "200/200 [==============================] - 1s 5ms/step - loss: 0.3007 - accuracy: 0.9138\n",
      "Epoch 4/10\n",
      "200/200 [==============================] - 1s 5ms/step - loss: 0.2735 - accuracy: 0.9213\n",
      "Epoch 5/10\n",
      "200/200 [==============================] - 1s 5ms/step - loss: 0.2523 - accuracy: 0.9273\n",
      "Epoch 6/10\n",
      "200/200 [==============================] - 1s 5ms/step - loss: 0.2348 - accuracy: 0.9331\n",
      "Epoch 7/10\n",
      "200/200 [==============================] - 1s 5ms/step - loss: 0.2193 - accuracy: 0.9372\n",
      "Epoch 8/10\n",
      "200/200 [==============================] - 1s 5ms/step - loss: 0.2060 - accuracy: 0.9412\n",
      "Epoch 9/10\n",
      "200/200 [==============================] - 1s 5ms/step - loss: 0.1940 - accuracy: 0.9444\n",
      "Epoch 10/10\n",
      "200/200 [==============================] - 1s 5ms/step - loss: 0.1834 - accuracy: 0.9474\n"
     ]
    },
    {
     "data": {
      "text/plain": [
       "<tensorflow.python.keras.callbacks.History at 0x1899f51d688>"
      ]
     },
     "execution_count": 20,
     "metadata": {},
     "output_type": "execute_result"
    }
   ],
   "source": [
    "model2.fit(X_train, Y_train, batch_size = batch_size, epochs=nb_epoch, verbose = 1)"
   ]
  },
  {
   "cell_type": "code",
   "execution_count": 21,
   "metadata": {},
   "outputs": [],
   "source": [
    "scores2 = model2.evaluate(X_test, Y_test, verbose=0)"
   ]
  },
  {
   "cell_type": "code",
   "execution_count": 22,
   "metadata": {},
   "outputs": [
    {
     "name": "stdout",
     "output_type": "stream",
     "text": [
      "loss: 17.84%\n",
      "accuracy: 94.91%\n"
     ]
    }
   ],
   "source": [
    "print(\"%s: %.2f%%\" %(model2.metrics_names[0], scores2[0]*100))\n",
    "print(\"%s: %.2f%%\" %(model2.metrics_names[1], scores2[1]*100))"
   ]
  },
  {
   "cell_type": "markdown",
   "metadata": {},
   "source": [
    "We want to implement a Convolutional Neural Network. Our input now are images"
   ]
  },
  {
   "cell_type": "code",
   "execution_count": 23,
   "metadata": {},
   "outputs": [],
   "source": [
    "x_train = X_train.reshape(X_train.shape[0], 28, 28, 1)\n",
    "x_test = X_test.reshape(X_test.shape[0], 28, 28, 1)\n",
    "input_shape = (28, 28, 1)"
   ]
  },
  {
   "cell_type": "code",
   "execution_count": 24,
   "metadata": {},
   "outputs": [],
   "source": [
    "from keras.models import Sequential # importing the class of Sequential Models\n",
    "#it's appropriate for a plain stack of layers where each layer\n",
    "#has exactly one input tensor and one output tensor\n",
    "from keras.layers import Dense, Flatten #Flattens the input. Does not affect the batch size\n",
    "from keras.layers import Conv2D, MaxPooling2D\n",
    "\n",
    "pool = MaxPooling2D(pool_size = (2,2))"
   ]
  },
  {
   "cell_type": "code",
   "execution_count": 25,
   "metadata": {},
   "outputs": [],
   "source": [
    "#Layer 1:\n",
    "model_CNN = Sequential()\n",
    "model_CNN.add(Conv2D(32, kernel_size=(5, 5), activation='sigmoid', input_shape=input_shape, padding='same'))\n",
    "#Maxpooling Layer:\n",
    "model_CNN.add(pool)\n",
    "#Layer 2:\n",
    "model_CNN.add(Conv2D(64, kernel_size=(5, 5), activation='sigmoid', input_shape=input_shape, padding='same'))\n",
    "#Maxpooling layer :\n",
    "model_CNN.add(Flatten())\n",
    "#adding the MLP \n",
    "model_CNN.add(Dense(100, input_dim=784 , name='layer5'))\n",
    "model_CNN.add(Activation('sigmoid'))\n",
    "model_CNN.add(Dense(10, input_dim=100 , name='layer7'))\n",
    "model_CNN.add(Activation('softmax'))"
   ]
  },
  {
   "cell_type": "code",
   "execution_count": 26,
   "metadata": {},
   "outputs": [],
   "source": [
    "model_CNN.compile(loss='categorical_crossentropy', optimizer = sgd, metrics = ['accuracy'])"
   ]
  },
  {
   "cell_type": "code",
   "execution_count": 27,
   "metadata": {},
   "outputs": [
    {
     "name": "stdout",
     "output_type": "stream",
     "text": [
      "(60000, 784)\n",
      "(60000, 28, 28, 1)\n"
     ]
    }
   ],
   "source": [
    "print(X_train.shape)\n",
    "print(x_train.shape)"
   ]
  },
  {
   "cell_type": "code",
   "execution_count": 28,
   "metadata": {},
   "outputs": [
    {
     "name": "stdout",
     "output_type": "stream",
     "text": [
      "Epoch 1/10\n",
      "200/200 [==============================] - 82s 411ms/step - loss: 2.3608 - accuracy: 0.1024\n",
      "Epoch 2/10\n",
      "200/200 [==============================] - 79s 397ms/step - loss: 2.3471 - accuracy: 0.1017\n",
      "Epoch 3/10\n",
      "200/200 [==============================] - 81s 407ms/step - loss: 2.3500 - accuracy: 0.1023\n",
      "Epoch 4/10\n",
      "200/200 [==============================] - 81s 405ms/step - loss: 2.3410 - accuracy: 0.1005\n",
      "Epoch 5/10\n",
      "200/200 [==============================] - 85s 424ms/step - loss: 2.3381 - accuracy: 0.1005\n",
      "Epoch 6/10\n",
      "200/200 [==============================] - 84s 422ms/step - loss: 2.3366 - accuracy: 0.1029\n",
      "Epoch 7/10\n",
      "200/200 [==============================] - 85s 426ms/step - loss: 2.3369 - accuracy: 0.1015\n",
      "Epoch 8/10\n",
      "200/200 [==============================] - 85s 424ms/step - loss: 2.3335 - accuracy: 0.1015\n",
      "Epoch 9/10\n",
      "200/200 [==============================] - 87s 437ms/step - loss: 2.3301 - accuracy: 0.1033\n",
      "Epoch 10/10\n",
      "200/200 [==============================] - 89s 445ms/step - loss: 2.3313 - accuracy: 0.1022\n"
     ]
    },
    {
     "data": {
      "text/plain": [
       "<tensorflow.python.keras.callbacks.History at 0x189a40272c8>"
      ]
     },
     "execution_count": 28,
     "metadata": {},
     "output_type": "execute_result"
    }
   ],
   "source": [
    "model_CNN.fit(x_train, Y_train, batch_size = batch_size, epochs=nb_epoch, verbose = 1)"
   ]
  },
  {
   "cell_type": "code",
   "execution_count": 29,
   "metadata": {},
   "outputs": [],
   "source": [
    "scoresCNN = model_CNN.evaluate(x_test, Y_test, verbose=0)"
   ]
  },
  {
   "cell_type": "code",
   "execution_count": 30,
   "metadata": {},
   "outputs": [
    {
     "name": "stdout",
     "output_type": "stream",
     "text": [
      "loss: 230.37%\n",
      "accuracy: 11.35%\n"
     ]
    }
   ],
   "source": [
    "print(\"%s: %.2f%%\" %(model_CNN.metrics_names[0], scoresCNN[0]*100))\n",
    "print(\"%s: %.2f%%\" %(model_CNN.metrics_names[1], scoresCNN[1]*100))"
   ]
  },
  {
   "cell_type": "code",
   "execution_count": null,
   "metadata": {},
   "outputs": [],
   "source": []
  }
 ],
 "metadata": {
  "kernelspec": {
   "display_name": "Python 3",
   "language": "python",
   "name": "python3"
  },
  "language_info": {
   "codemirror_mode": {
    "name": "ipython",
    "version": 3
   },
   "file_extension": ".py",
   "mimetype": "text/x-python",
   "name": "python",
   "nbconvert_exporter": "python",
   "pygments_lexer": "ipython3",
   "version": "3.8.5"
  }
 },
 "nbformat": 4,
 "nbformat_minor": 4
}
